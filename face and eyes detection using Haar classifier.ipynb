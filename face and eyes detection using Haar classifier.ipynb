{
 "cells": [
  {
   "cell_type": "code",
   "execution_count": 1,
   "metadata": {},
   "outputs": [],
   "source": [
    "import cv2 as cv\n",
    "import numpy as np"
   ]
  },
  {
   "cell_type": "code",
   "execution_count": 7,
   "metadata": {},
   "outputs": [],
   "source": [
    "face_cascade=cv.CascadeClassifier('C:/Users/kumar/Downloads/opencv-master/opencv-master/samples/data/haarcascade_frontalface_default.xml')\n",
    "eye_cascade=cv.CascadeClassifier('C:/Users/kumar/Downloads/opencv-master/opencv-master/samples/data/haarcascade_eye_tree_eyeglasses.xml')"
   ]
  },
  {
   "cell_type": "code",
   "execution_count": 9,
   "metadata": {},
   "outputs": [],
   "source": [
    "vd=cv.VideoCapture(0)\n",
    "while True:\n",
    "    _,frame=vd.read()\n",
    "    gray=cv.cvtColor(frame,cv.COLOR_BGR2GRAY)\n",
    "    faces=face_cascade.detectMultiScale(gray,1.2,5)\n",
    "    for face in faces:\n",
    "        x,y,w,h=face\n",
    "        cv.rectangle(frame,(x,y),(x+w,y+h),(0,255,0),2)\n",
    "        roi_gray=gray[y:y+h,x:x+w]\n",
    "        roi_color=frame[y:y+h,x:x+w]\n",
    "        eyes=eye_cascade.detectMultiScale(roi_gray)\n",
    "        for eye in eyes:\n",
    "            ex,ey,ew,eh=eye\n",
    "            cv.rectangle(roi_color,(ex,ey),(ex+ew,ey+eh),(255,0,0),2)\n",
    "    cv.imshow('frame',frame)\n",
    "    k=cv.waitKey(30) & 0xFF\n",
    "    if k==27:\n",
    "        break\n",
    "vd.release()\n",
    "cv.destroyAllWindows()\n",
    "    "
   ]
  },
  {
   "cell_type": "code",
   "execution_count": null,
   "metadata": {},
   "outputs": [],
   "source": []
  }
 ],
 "metadata": {
  "kernelspec": {
   "display_name": "Python 3",
   "language": "python",
   "name": "python3"
  },
  "language_info": {
   "codemirror_mode": {
    "name": "ipython",
    "version": 3
   },
   "file_extension": ".py",
   "mimetype": "text/x-python",
   "name": "python",
   "nbconvert_exporter": "python",
   "pygments_lexer": "ipython3",
   "version": "3.6.12"
  }
 },
 "nbformat": 4,
 "nbformat_minor": 4
}
